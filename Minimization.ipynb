{
 "cells": [
  {
   "cell_type": "code",
   "execution_count": 1,
   "id": "8ec02f6b",
   "metadata": {},
   "outputs": [],
   "source": [
    "from scipy.optimize import minimize_scalar \n",
    "from scipy.optimize import minimize,Bounds"
   ]
  },
  {
   "cell_type": "markdown",
   "id": "955fbf8c",
   "metadata": {},
   "source": [
    "`minimize_scalar()` and `minimize()` to minimize a function of one variable and many variables, respectively"
   ]
  },
  {
   "cell_type": "markdown",
   "id": "09f2f1cb",
   "metadata": {},
   "source": [
    "`minimize` module of `scipy.opimize` package is used.\n",
    "\n",
    "**Syntax :** `scipy.optimize.minimize(fun, x0, args=(), method=None, jac=None, hess=None, hessp=None, bounds=None, constraints=(), tol=None, callback=None, options=None)`\n",
    "\n",
    "here, `fun` is the function that is to be minimized subjected to :\n",
    "\n",
    "`x0` is the initial guess of input variable.\n",
    "\n",
    "`args()` arguments can be defined for the function `fun` in case `fun` is defined with arbitrary `args()` **(optional)**\n",
    "\n",
    "`tol = ` is used to define the tolerance of the final solution. When tol is specified, the selected minimization algorithm sets some relevant solver-specific tolerance(s) equal to tol.  **(optional)**\n",
    "\n",
    "`method =` is used to define a particular method of minimizaition, it can be used to enhance the speed of computation based on the nature of the function. **(optional)**  \n",
    "\n",
    "`jac = ` and `hess = ` are the *Jacobian* and *Hessian* are the first and second differential of the function which can be defined to enhance the speed of computation. **(optional)**  \n",
    "\n",
    "`bounds = ` are defined for design variables to limit the solution in particular range of design variable. (optional)\n",
    "\n",
    "`constraints= ` are used to define the various constraints, that objective function is subjected to. **(optional)** \n",
    "\n",
    "`option = ` is used to define parameters for solvers including maximum itterations. **(optional)** \n",
    "\n",
    "Reference - [scipy.optimize.minimize](https://docs.scipy.org/doc/scipy/reference/generated/scipy.optimize.minimize.html#rdd2e1855725e-5) & \n",
    "[Realpython](https://realpython.com/python-scipy-cluster-optimize/)"
   ]
  },
  {
   "cell_type": "markdown",
   "id": "31c8c91a",
   "metadata": {},
   "source": [
    "### Un-constrained function\n",
    "\n",
    "A simple function in single variable is to be minimized, subjected to no constraints.  \n",
    "$f(x) = x^2 + 2$\n",
    "\n",
    "Using `minimize` and `minimize_scalar`"
   ]
  },
  {
   "cell_type": "code",
   "execution_count": 2,
   "id": "37477126",
   "metadata": {},
   "outputs": [
    {
     "data": {
      "text/plain": [
       "      fun: 2.0\n",
       " hess_inv: array([[0.5]])\n",
       "      jac: array([2.98023224e-08])\n",
       "  message: 'Optimization terminated successfully.'\n",
       "     nfev: 6\n",
       "      nit: 2\n",
       "     njev: 3\n",
       "   status: 0\n",
       "  success: True\n",
       "        x: array([5.31130494e-09])"
      ]
     },
     "execution_count": 2,
     "metadata": {},
     "output_type": "execute_result"
    }
   ],
   "source": [
    "def f_x(x):\n",
    "    return (x**2 + 2)\n",
    "\n",
    "\n",
    "minimize(f_x,1)"
   ]
  },
  {
   "cell_type": "code",
   "execution_count": 3,
   "id": "fb1b0ebd",
   "metadata": {},
   "outputs": [
    {
     "data": {
      "text/plain": [
       "     fun: 2.0\n",
       "    nfev: 41\n",
       "     nit: 37\n",
       " success: True\n",
       "       x: 3.195989188427313e-11"
      ]
     },
     "execution_count": 3,
     "metadata": {},
     "output_type": "execute_result"
    }
   ],
   "source": [
    "def objective_function(x):\n",
    "    return (x**2 + 2)\n",
    "\n",
    "res = minimize_scalar(objective_function)\n",
    "res"
   ]
  },
  {
   "cell_type": "markdown",
   "id": "f41252b9",
   "metadata": {},
   "source": [
    "### Bounded function\n",
    "Same function \n",
    "$f(x) = x^2 + 2$  \n",
    "$1<x<3$"
   ]
  },
  {
   "cell_type": "code",
   "execution_count": 4,
   "id": "bf3cf0a7",
   "metadata": {},
   "outputs": [
    {
     "data": {
      "text/plain": [
       "     fun: 2.0000000000122307\n",
       " message: 'Solution found.'\n",
       "    nfev: 28\n",
       "  status: 0\n",
       " success: True\n",
       "       x: 3.4972054492990267e-06"
      ]
     },
     "execution_count": 4,
     "metadata": {},
     "output_type": "execute_result"
    }
   ],
   "source": [
    "def objective_function(x):\n",
    "    return (x**2 + 2)\n",
    "\n",
    "res = minimize_scalar(objective_function, method='bounded', bounds=(0, 3))\n",
    "res"
   ]
  },
  {
   "cell_type": "markdown",
   "id": "5bd92741",
   "metadata": {},
   "source": [
    "### Remark !!\n",
    "Optimization may give local minima (that may not be the global minima in the entier domain)\n",
    "\n",
    "Here, the function gave the local minima in the bound, where the global minima is also present"
   ]
  },
  {
   "cell_type": "code",
   "execution_count": 5,
   "id": "fb4bedf8",
   "metadata": {},
   "outputs": [],
   "source": [
    "import numpy as np\n",
    "import matplotlib.pyplot as plt\n",
    "import math\n",
    "def objective_function(x):\n",
    "    return -(np.exp(-x/10) * math.sin(x))\n",
    "\n"
   ]
  },
  {
   "cell_type": "code",
   "execution_count": 6,
   "id": "cf7b1c4a",
   "metadata": {},
   "outputs": [
    {
     "data": {
      "text/plain": [
       "     fun: -0.8589127507683367\n",
       "    nfev: 13\n",
       "     nit: 9\n",
       " success: True\n",
       "       x: 1.4711276771388557"
      ]
     },
     "execution_count": 6,
     "metadata": {},
     "output_type": "execute_result"
    }
   ],
   "source": [
    "res = minimize_scalar(objective_function)\n",
    "res"
   ]
  },
  {
   "cell_type": "code",
   "execution_count": 7,
   "id": "b23d3faa",
   "metadata": {},
   "outputs": [
    {
     "data": {
      "text/plain": [
       "     fun: -0.03711698540735914\n",
       " message: 'Solution found.'\n",
       "    nfev: 16\n",
       "  status: 0\n",
       " success: True\n",
       "       x: 32.88705593168306"
      ]
     },
     "execution_count": 7,
     "metadata": {},
     "output_type": "execute_result"
    }
   ],
   "source": [
    "res = minimize_scalar(objective_function,1, method='bounded', bounds=(0,100))\n",
    "res"
   ]
  },
  {
   "cell_type": "code",
   "execution_count": 8,
   "id": "b02582b6",
   "metadata": {},
   "outputs": [
    {
     "data": {
      "text/plain": [
       "[<matplotlib.lines.Line2D at 0x7fcbe741d7f0>]"
      ]
     },
     "execution_count": 8,
     "metadata": {},
     "output_type": "execute_result"
    },
    {
     "data": {
      "image/png": "[encoded data removed]",
      "text/plain": [
       "<Figure size 432x288 with 1 Axes>"
      ]
     },
     "metadata": {
      "needs_background": "light"
     },
     "output_type": "display_data"
    }
   ],
   "source": [
    "a = 0\n",
    "b = 150\n",
    "c = 100\n",
    "plt.plot(np.linspace(a,b,c),[objective_function(x) for x in np.linspace(a,b,c)])"
   ]
  },
  {
   "cell_type": "markdown",
   "id": "3a6255f2",
   "metadata": {},
   "source": [
    "### Constrained function"
   ]
  },
  {
   "cell_type": "raw",
   "id": "c911bdf3",
   "metadata": {},
   "source": [
    "def f_x(x):\n",
    "    return x**2 + 2\n",
    "\n",
    "def constr_1(f_x):\n",
    "    return f_x - x**2 - 3\n",
    "\n",
    "cons = ({'type': 'eq', 'fun' : constr_1})\n",
    "\n",
    "minimize(f_x,0, constraints= cons)"
   ]
  }
 ],
 "metadata": {
  "kernelspec": {
   "display_name": "Python 3 (ipykernel)",
   "language": "python",
   "name": "python3"
  },
  "language_info": {
   "codemirror_mode": {
    "name": "ipython",
    "version": 3
   },
   "file_extension": ".py",
   "mimetype": "text/x-python",
   "name": "python",
   "nbconvert_exporter": "python",
   "pygments_lexer": "ipython3",
   "version": "3.8.10"
  }
 },
 "nbformat": 4,
 "nbformat_minor": 5
}
