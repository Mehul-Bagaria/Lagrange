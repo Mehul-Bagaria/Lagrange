{
 "cells": [
  {
   "cell_type": "code",
   "execution_count": 1,
   "id": "8ec02f6b",
   "metadata": {},
   "outputs": [],
   "source": [
    "from scipy.optimize import minimize_scalar \n",
    "from scipy.optimize import minimize,Bounds"
   ]
  },
  {
   "cell_type": "markdown",
   "id": "955fbf8c",
   "metadata": {},
   "source": [
    "`minimize_scalar()` and `minimize()` to minimize a function of one variable and many variables, respectively"
   ]
  },
  {
   "cell_type": "markdown",
   "id": "09f2f1cb",
   "metadata": {},
   "source": [
    "`minimize` module of `scipy.opimize` package is used.\n",
    "\n",
    "**Syntax :** `scipy.optimize.minimize(fun, x0, args=(), method=None, jac=None, hess=None, hessp=None, bounds=None, constraints=(), tol=None, callback=None, options=None)`\n",
    "\n",
    "here, `fun` is the function that is to be minimized subjected to :\n",
    "\n",
    "`x0` is the initial guess of input variable.\n",
    "\n",
    "`args()` arguments can be defined for the function `fun` in case `fun` is defined with arbitrary `args()` **(optional)**\n",
    "\n",
    "`tol = ` is used to define the tolerance of the final solution. When tol is specified, the selected minimization algorithm sets some relevant solver-specific tolerance(s) equal to tol.  **(optional)**\n",
    "\n",
    "`method =` is used to define a particular method of minimizaition, it can be used to enhance the speed of computation based on the nature of the function. **(optional)**  \n",
    "\n",
    "`jac = ` and `hess = ` are the *Jacobian* and *Hessian* are the first and second differential of the function which can be defined to enhance the speed of computation. **(optional)**  \n",
    "\n",
    "`bounds = ` are defined for design variables to limit the solution in particular range of design variable. (optional)\n",
    "\n",
    "`constraints= ` are used to define the various constraints, that objective function is subjected to. **(optional)** \n",
    "\n",
    "`option = ` is used to define parameters for solvers including maximum itterations. **(optional)** \n",
    "\n",
    "Reference - [scipy.optimize.minimize](https://docs.scipy.org/doc/scipy/reference/generated/scipy.optimize.minimize.html#rdd2e1855725e-5) & \n",
    "[Realpython](https://realpython.com/python-scipy-cluster-optimize/)"
   ]
  },
  {
   "cell_type": "markdown",
   "id": "31c8c91a",
   "metadata": {},
   "source": [
    "### Un-constrained function\n",
    "\n",
    "A simple function in single variable is to be minimized, subjected to no constraints.  \n",
    "$f(x) = x^2 + 2$\n",
    "\n",
    "Using `minimize` and `minimize_scalar`"
   ]
  },
  {
   "cell_type": "code",
   "execution_count": 6,
   "id": "37477126",
   "metadata": {},
   "outputs": [
    {
     "data": {
      "text/plain": [
       "      fun: 2.0\n",
       " hess_inv: array([[0.5]])\n",
       "      jac: array([2.98023224e-08])\n",
       "  message: 'Optimization terminated successfully.'\n",
       "     nfev: 6\n",
       "      nit: 2\n",
       "     njev: 3\n",
       "   status: 0\n",
       "  success: True\n",
       "        x: array([5.31130494e-09])"
      ]
     },
     "execution_count": 6,
     "metadata": {},
     "output_type": "execute_result"
    }
   ],
   "source": [
    "def f_x(x):\n",
    "    return (x**2 + 2)\n",
    "\n",
    "\n",
    "minimize(f_x,1)"
   ]
  },
  {
   "cell_type": "code",
   "execution_count": 7,
   "id": "fb1b0ebd",
   "metadata": {},
   "outputs": [
    {
     "data": {
      "text/plain": [
       "     fun: 2.0\n",
       "    nfev: 41\n",
       "     nit: 37\n",
       " success: True\n",
       "       x: 3.195989188427313e-11"
      ]
     },
     "execution_count": 7,
     "metadata": {},
     "output_type": "execute_result"
    }
   ],
   "source": [
    "def objective_function(x):\n",
    "    return (x**2 + 2)\n",
    "\n",
    "res = minimize_scalar(objective_function)\n",
    "res"
   ]
  },
  {
   "cell_type": "markdown",
   "id": "f41252b9",
   "metadata": {},
   "source": [
    "### Bounded function\n",
    "Same function \n",
    "$f(x) = x^2 + 2$  \n",
    "$1<x<3$"
   ]
  },
  {
   "cell_type": "code",
   "execution_count": 14,
   "id": "bf3cf0a7",
   "metadata": {},
   "outputs": [
    {
     "data": {
      "text/plain": [
       "     fun: 2.0000000000122307\n",
       " message: 'Solution found.'\n",
       "    nfev: 28\n",
       "  status: 0\n",
       " success: True\n",
       "       x: 3.4972054492990267e-06"
      ]
     },
     "execution_count": 14,
     "metadata": {},
     "output_type": "execute_result"
    }
   ],
   "source": [
    "def objective_function(x):\n",
    "    return (x**2 + 2)\n",
    "\n",
    "res = minimize_scalar(objective_function, method='bounded', bounds=(0, 3))\n",
    "res"
   ]
  },
  {
   "cell_type": "markdown",
   "id": "3a6255f2",
   "metadata": {},
   "source": [
    "### Constrained function"
   ]
  },
  {
   "cell_type": "raw",
   "id": "c911bdf3",
   "metadata": {},
   "source": [
    "def f_x(x):\n",
    "    return x**2 + 2\n",
    "\n",
    "def constr_1(f_x):\n",
    "    return f_x - x**2 - 3\n",
    "\n",
    "cons = ({'type': 'eq', 'fun' : constr_1})\n",
    "\n",
    "minimize(f_x,0, constraints= cons)"
   ]
  }
 ],
 "metadata": {
  "kernelspec": {
   "display_name": "Python 3 (ipykernel)",
   "language": "python",
   "name": "python3"
  },
  "language_info": {
   "codemirror_mode": {
    "name": "ipython",
    "version": 3
   },
   "file_extension": ".py",
   "mimetype": "text/x-python",
   "name": "python",
   "nbconvert_exporter": "python",
   "pygments_lexer": "ipython3",
   "version": "3.8.10"
  }
 },
 "nbformat": 4,
 "nbformat_minor": 5
}
