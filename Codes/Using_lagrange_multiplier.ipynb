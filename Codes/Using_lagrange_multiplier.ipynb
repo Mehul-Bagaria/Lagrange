{
 "cells": [
  {
   "cell_type": "markdown",
   "id": "08ba6856",
   "metadata": {},
   "source": [
    "## Lagrange multiplier method\n",
    "Here, we tried to convert a constraint based problem into unconstraint problem and then find it's optimal value.\n",
    "* First it is solved in the standard constraint based problem.\n",
    "* Second it is solved by converting it into unconstraint based probelm using lagrange's multiplier method.\n",
    "\n",
    "Different **method** are used for each cases."
   ]
  },
  {
   "cell_type": "markdown",
   "id": "53bf12fd",
   "metadata": {},
   "source": [
    "### Problem statement\n",
    "$$\n",
    "\\text { Minimize } f(\\mathbf{X})=-3 x_{1}^{2}-6 x_{1} x_{2}-5 x_{2}^{2}+7 x_{1}+5 x_{2}\n",
    "$$\n",
    "\n",
    "$$\n",
    "\\text { Subject to } x_{1}+x_{2}=5\n",
    "$$"
   ]
  },
  {
   "cell_type": "code",
   "execution_count": 1,
   "id": "055c0f74",
   "metadata": {},
   "outputs": [],
   "source": [
    "from scipy.optimize import minimize,Bounds"
   ]
  },
  {
   "cell_type": "markdown",
   "id": "0513c06c",
   "metadata": {},
   "source": [
    "### With bounds and constraints\n",
    "Here the constraint function is solved with bounds."
   ]
  },
  {
   "cell_type": "code",
   "execution_count": 2,
   "id": "d5c771c9",
   "metadata": {},
   "outputs": [
    {
     "name": "stdout",
     "output_type": "stream",
     "text": [
      "Nelder-Mead | Value of function -519.9999999999999\n",
      "Value of variable [-10.  15.] \n",
      "\n",
      "Powell | Value of function -519.9999999999999\n",
      "Value of variable [-10.  15.] \n",
      "\n",
      "CG | Value of function -519.9999999999999\n",
      "Value of variable [-10.  15.] \n",
      "\n",
      "BFGS | Value of function -519.9999999999999\n",
      "Value of variable [-10.  15.] \n",
      "\n",
      "L-BFGS-B | Value of function -519.9999999999999\n",
      "Value of variable [-10.  15.] \n",
      "\n",
      "COBYLA | Value of function -519.9999999999999\n",
      "Value of variable [-10.  15.] \n",
      "\n",
      "SLSQP | Value of function -519.9999999999999\n",
      "Value of variable [-10.  15.] \n",
      "\n",
      "trust-constr | Value of function -519.9999999999999\n",
      "Value of variable [-10.  15.] \n",
      "\n",
      "dogleg | Value of function -519.9999999999999\n",
      "Value of variable [-10.  15.] \n",
      "\n",
      "trust-ncg | Value of function -519.9999999999999\n",
      "Value of variable [-10.  15.] \n",
      "\n",
      "trust-exact | Value of function -519.9999999999999\n",
      "Value of variable [-10.  15.] \n",
      "\n",
      "trust-krylov | Value of function -519.9999999999999\n",
      "Value of variable [-10.  15.] \n",
      "\n",
      "Newton-CG | Value of function -519.9999999999999\n",
      "Value of variable [-10.  15.] \n",
      "\n"
     ]
    }
   ],
   "source": [
    "# Defining the objective function\n",
    "def f_x(x):\n",
    "    return -3*x[0]**2 - 6*x[0]*x[1] - 5*x[1]**2 + 7*x[0] + 5*x[1]\n",
    "\n",
    "# Defining the constraint function\n",
    "def con_1(x):\n",
    "    return x[0] + x[1] - 5\n",
    "\n",
    "# Defining the constraint type\n",
    "con1 = {'type' : 'eq', 'fun' : con_1}\n",
    "\n",
    "# Defining the bounds\n",
    "b= (-10,30)\n",
    "bnds = (b,b)\n",
    "\n",
    "# Defining the method lits\n",
    "method_list = ['Nelder-Mead','Powell', 'CG','BFGS','L-BFGS-B', 'COBYLA', 'SLSQP','trust-constr', 'dogleg', 'trust-ncg', 'trust-exact', 'trust-krylov','Newton-CG']\n",
    "\n",
    "# Calculating the optimization \n",
    "for i in range(13):\n",
    "    res = minimize(f_x, (-1,5), bounds = bnds, constraints=con1)\n",
    "    print(method_list[i], \"| Value of function\",res.fun)\n",
    "    print(\"Value of variable\", res.x, '\\n')\n",
    "    \n",
    "\n"
   ]
  },
  {
   "cell_type": "markdown",
   "id": "f4876df1",
   "metadata": {},
   "source": [
    "### With bounds and unconstraints\n",
    "Here the constraint function is converted into unconstraint problem and is solved with bounds."
   ]
  },
  {
   "cell_type": "code",
   "execution_count": 3,
   "id": "c068fda1",
   "metadata": {},
   "outputs": [
    {
     "name": "stdout",
     "output_type": "stream",
     "text": [
      "Nelder-Mead | Value of function -1880.0\n",
      "Value of variable [ 10.  10. -40.] \n",
      "\n",
      "Powell | Value of function -1879.9555538386608\n",
      "Value of variable [  9.99999998   9.99997798 -39.99732336] \n",
      "\n"
     ]
    },
    {
     "name": "stderr",
     "output_type": "stream",
     "text": [
      "/home/mehul/.local/lib/python3.8/site-packages/scipy/optimize/_minimize.py:538: RuntimeWarning: Method CG cannot handle constraints nor bounds.\n",
      "  warn('Method %s cannot handle constraints nor bounds.' % method,\n",
      "/tmp/ipykernel_26330/3276412926.py:3: RuntimeWarning: overflow encountered in double_scalars\n",
      "  return -3*x[0]**2 - 6*x[0]*x[1] - 5*x[1]**2 + 7*x[0] + 5*x[1]  +  x[2] * (x[0] + x[1] - 5)\n",
      "/home/mehul/.local/lib/python3.8/site-packages/scipy/optimize/_numdiff.py:557: RuntimeWarning: invalid value encountered in subtract\n",
      "  df = fun(x) - f0\n",
      "/tmp/ipykernel_26330/3276412926.py:3: RuntimeWarning: invalid value encountered in double_scalars\n",
      "  return -3*x[0]**2 - 6*x[0]*x[1] - 5*x[1]**2 + 7*x[0] + 5*x[1]  +  x[2] * (x[0] + x[1] - 5)\n",
      "/home/mehul/.local/lib/python3.8/site-packages/scipy/optimize/_minimize.py:538: RuntimeWarning: Method BFGS cannot handle constraints nor bounds.\n",
      "  warn('Method %s cannot handle constraints nor bounds.' % method,\n",
      "/home/mehul/.local/lib/python3.8/site-packages/scipy/optimize/_minimize.py:544: RuntimeWarning: Method COBYLA cannot handle bounds.\n",
      "  warn('Method %s cannot handle bounds.' % method,\n"
     ]
    },
    {
     "name": "stdout",
     "output_type": "stream",
     "text": [
      "CG | Value of function -3.0854801454393023e+205\n",
      "Value of variable [5.24093705e+101 2.16442652e+102 7.40578070e+100] \n",
      "\n",
      "BFGS | Value of function -6674571.3909744695\n",
      "Value of variable [ 241.53840568 1009.80196639   44.64834367] \n",
      "\n",
      "L-BFGS-B | Value of function -1880.0\n",
      "Value of variable [ 10.  10. -40.] \n",
      "\n",
      "COBYLA | Value of function -5817595.766457899\n",
      "Value of variable [613.83610362 666.19999373 -17.33403807] \n",
      "\n",
      "SLSQP | Value of function -1880.0\n",
      "Value of variable [ 10.  10. -40.] \n",
      "\n",
      "trust-constr | Value of function -1879.9975998186865\n",
      "Value of variable [  9.99999477   9.9999959  -39.99994665] \n",
      "\n"
     ]
    },
    {
     "name": "stderr",
     "output_type": "stream",
     "text": [
      "/home/mehul/.local/lib/python3.8/site-packages/scipy/optimize/_minimize.py:538: RuntimeWarning: Method dogleg cannot handle constraints nor bounds.\n",
      "  warn('Method %s cannot handle constraints nor bounds.' % method,\n"
     ]
    },
    {
     "ename": "ValueError",
     "evalue": "Jacobian is required for dogleg minimization",
     "output_type": "error",
     "traceback": [
      "\u001b[0;31m---------------------------------------------------------------------------\u001b[0m",
      "\u001b[0;31mValueError\u001b[0m                                Traceback (most recent call last)",
      "\u001b[0;32m/tmp/ipykernel_26330/3276412926.py\u001b[0m in \u001b[0;36m<module>\u001b[0;34m\u001b[0m\n\u001b[1;32m     13\u001b[0m \u001b[0;31m# Calculating the optimization\u001b[0m\u001b[0;34m\u001b[0m\u001b[0;34m\u001b[0m\u001b[0;34m\u001b[0m\u001b[0m\n\u001b[1;32m     14\u001b[0m \u001b[0;32mfor\u001b[0m \u001b[0mi\u001b[0m \u001b[0;32min\u001b[0m \u001b[0mrange\u001b[0m\u001b[0;34m(\u001b[0m\u001b[0;36m13\u001b[0m\u001b[0;34m)\u001b[0m\u001b[0;34m:\u001b[0m\u001b[0;34m\u001b[0m\u001b[0;34m\u001b[0m\u001b[0m\n\u001b[0;32m---> 15\u001b[0;31m     \u001b[0mres\u001b[0m \u001b[0;34m=\u001b[0m \u001b[0mminimize\u001b[0m\u001b[0;34m(\u001b[0m\u001b[0mflagrange_x\u001b[0m\u001b[0;34m,\u001b[0m\u001b[0;34m(\u001b[0m\u001b[0;34m-\u001b[0m\u001b[0;36m1\u001b[0m\u001b[0;34m,\u001b[0m\u001b[0;36m5\u001b[0m\u001b[0;34m,\u001b[0m\u001b[0;36m10\u001b[0m\u001b[0;34m)\u001b[0m\u001b[0;34m,\u001b[0m\u001b[0mmethod\u001b[0m\u001b[0;34m=\u001b[0m\u001b[0mmethod_list\u001b[0m\u001b[0;34m[\u001b[0m\u001b[0mi\u001b[0m\u001b[0;34m]\u001b[0m\u001b[0;34m,\u001b[0m \u001b[0mbounds\u001b[0m \u001b[0;34m=\u001b[0m \u001b[0mbnds\u001b[0m\u001b[0;34m)\u001b[0m\u001b[0;34m\u001b[0m\u001b[0;34m\u001b[0m\u001b[0m\n\u001b[0m\u001b[1;32m     16\u001b[0m     \u001b[0mprint\u001b[0m\u001b[0;34m(\u001b[0m\u001b[0mmethod_list\u001b[0m\u001b[0;34m[\u001b[0m\u001b[0mi\u001b[0m\u001b[0;34m]\u001b[0m\u001b[0;34m,\u001b[0m \u001b[0;34m\"| Value of function\"\u001b[0m\u001b[0;34m,\u001b[0m\u001b[0mres\u001b[0m\u001b[0;34m.\u001b[0m\u001b[0mfun\u001b[0m\u001b[0;34m)\u001b[0m\u001b[0;34m\u001b[0m\u001b[0;34m\u001b[0m\u001b[0m\n\u001b[1;32m     17\u001b[0m     \u001b[0mprint\u001b[0m\u001b[0;34m(\u001b[0m\u001b[0;34m\"Value of variable\"\u001b[0m\u001b[0;34m,\u001b[0m \u001b[0mres\u001b[0m\u001b[0;34m.\u001b[0m\u001b[0mx\u001b[0m\u001b[0;34m,\u001b[0m \u001b[0;34m'\\n'\u001b[0m\u001b[0;34m)\u001b[0m\u001b[0;34m\u001b[0m\u001b[0;34m\u001b[0m\u001b[0m\n",
      "\u001b[0;32m~/.local/lib/python3.8/site-packages/scipy/optimize/_minimize.py\u001b[0m in \u001b[0;36mminimize\u001b[0;34m(fun, x0, args, method, jac, hess, hessp, bounds, constraints, tol, callback, options)\u001b[0m\n\u001b[1;32m    636\u001b[0m                                             callback=callback, **options)\n\u001b[1;32m    637\u001b[0m     \u001b[0;32melif\u001b[0m \u001b[0mmeth\u001b[0m \u001b[0;34m==\u001b[0m \u001b[0;34m'dogleg'\u001b[0m\u001b[0;34m:\u001b[0m\u001b[0;34m\u001b[0m\u001b[0;34m\u001b[0m\u001b[0m\n\u001b[0;32m--> 638\u001b[0;31m         return _minimize_dogleg(fun, x0, args, jac, hess,\n\u001b[0m\u001b[1;32m    639\u001b[0m                                 callback=callback, **options)\n\u001b[1;32m    640\u001b[0m     \u001b[0;32melif\u001b[0m \u001b[0mmeth\u001b[0m \u001b[0;34m==\u001b[0m \u001b[0;34m'trust-ncg'\u001b[0m\u001b[0;34m:\u001b[0m\u001b[0;34m\u001b[0m\u001b[0;34m\u001b[0m\u001b[0m\n",
      "\u001b[0;32m~/.local/lib/python3.8/site-packages/scipy/optimize/_trustregion_dogleg.py\u001b[0m in \u001b[0;36m_minimize_dogleg\u001b[0;34m(fun, x0, args, jac, hess, **trust_region_options)\u001b[0m\n\u001b[1;32m     28\u001b[0m     \"\"\"\n\u001b[1;32m     29\u001b[0m     \u001b[0;32mif\u001b[0m \u001b[0mjac\u001b[0m \u001b[0;32mis\u001b[0m \u001b[0;32mNone\u001b[0m\u001b[0;34m:\u001b[0m\u001b[0;34m\u001b[0m\u001b[0;34m\u001b[0m\u001b[0m\n\u001b[0;32m---> 30\u001b[0;31m         \u001b[0;32mraise\u001b[0m \u001b[0mValueError\u001b[0m\u001b[0;34m(\u001b[0m\u001b[0;34m'Jacobian is required for dogleg minimization'\u001b[0m\u001b[0;34m)\u001b[0m\u001b[0;34m\u001b[0m\u001b[0;34m\u001b[0m\u001b[0m\n\u001b[0m\u001b[1;32m     31\u001b[0m     \u001b[0;32mif\u001b[0m \u001b[0mhess\u001b[0m \u001b[0;32mis\u001b[0m \u001b[0;32mNone\u001b[0m\u001b[0;34m:\u001b[0m\u001b[0;34m\u001b[0m\u001b[0;34m\u001b[0m\u001b[0m\n\u001b[1;32m     32\u001b[0m         \u001b[0;32mraise\u001b[0m \u001b[0mValueError\u001b[0m\u001b[0;34m(\u001b[0m\u001b[0;34m'Hessian is required for dogleg minimization'\u001b[0m\u001b[0;34m)\u001b[0m\u001b[0;34m\u001b[0m\u001b[0;34m\u001b[0m\u001b[0m\n",
      "\u001b[0;31mValueError\u001b[0m: Jacobian is required for dogleg minimization"
     ]
    }
   ],
   "source": [
    "# Defining the Lagrange multiplier function, here x[2] is the lagrangian \n",
    "def flagrange_x(x):\n",
    "    return -3*x[0]**2 - 6*x[0]*x[1] - 5*x[1]**2 + 7*x[0] + 5*x[1]  +  x[2] * (x[0] + x[1] - 5)\n",
    "\n",
    "# Defining the bounds\n",
    "b= (-10,10)\n",
    "c= (-40,30)\n",
    "bnds = (b,b,c)\n",
    "\n",
    "# Defining the method lits\n",
    "method_list = ['Nelder-Mead','Powell', 'CG','BFGS','L-BFGS-B', 'COBYLA', 'SLSQP','trust-constr', 'dogleg', 'trust-ncg', 'trust-exact', 'trust-krylov','Newton-CG']\n",
    "\n",
    "# Calculating the optimization\n",
    "for i in range(13):\n",
    "    res = minimize(flagrange_x,(-1,5,10),method=method_list[i], bounds = bnds)\n",
    "    print(method_list[i], \"| Value of function\",res.fun)\n",
    "    print(\"Value of variable\", res.x, '\\n')    \n"
   ]
  },
  {
   "cell_type": "markdown",
   "id": "e8cff3a4",
   "metadata": {},
   "source": [
    "### Without bounds and constraints\n",
    "Here the constraint function is solved without bounds."
   ]
  },
  {
   "cell_type": "code",
   "execution_count": 4,
   "id": "6276af44",
   "metadata": {},
   "outputs": [
    {
     "name": "stderr",
     "output_type": "stream",
     "text": [
      "/tmp/ipykernel_26330/2494886395.py:3: RuntimeWarning: overflow encountered in double_scalars\n",
      "  return -3*x[0]**2 - 6*x[0]*x[1] - 5*x[1]**2 + 7*x[0] + 5*x[1]\n",
      "/tmp/ipykernel_26330/2494886395.py:3: RuntimeWarning: invalid value encountered in double_scalars\n",
      "  return -3*x[0]**2 - 6*x[0]*x[1] - 5*x[1]**2 + 7*x[0] + 5*x[1]\n"
     ]
    },
    {
     "name": "stdout",
     "output_type": "stream",
     "text": [
      "Nelder-Mead | Value of function nan\n",
      "Value of variable [nan nan] \n",
      "\n",
      "Powell | Value of function nan\n",
      "Value of variable [nan nan] \n",
      "\n",
      "CG | Value of function nan\n",
      "Value of variable [nan nan] \n",
      "\n",
      "BFGS | Value of function nan\n",
      "Value of variable [nan nan] \n",
      "\n",
      "L-BFGS-B | Value of function nan\n",
      "Value of variable [nan nan] \n",
      "\n",
      "COBYLA | Value of function nan\n",
      "Value of variable [nan nan] \n",
      "\n",
      "SLSQP | Value of function nan\n",
      "Value of variable [nan nan] \n",
      "\n",
      "trust-constr | Value of function nan\n",
      "Value of variable [nan nan] \n",
      "\n",
      "dogleg | Value of function nan\n",
      "Value of variable [nan nan] \n",
      "\n",
      "trust-ncg | Value of function nan\n",
      "Value of variable [nan nan] \n",
      "\n",
      "trust-exact | Value of function nan\n",
      "Value of variable [nan nan] \n",
      "\n",
      "trust-krylov | Value of function nan\n",
      "Value of variable [nan nan] \n",
      "\n",
      "Newton-CG | Value of function nan\n",
      "Value of variable [nan nan] \n",
      "\n"
     ]
    }
   ],
   "source": [
    "# Defining the objective function\n",
    "def f_x(x):\n",
    "    return -3*x[0]**2 - 6*x[0]*x[1] - 5*x[1]**2 + 7*x[0] + 5*x[1]\n",
    "\n",
    "# Defining the constraint type    \n",
    "def con_1(x):\n",
    "    return x[0] + x[1] - 5\n",
    "\n",
    "# Defining the constraint type\n",
    "con1 = {'type' : 'eq', 'fun' : con_1}\n",
    "\n",
    "# Defining the method lits\n",
    "method_list = ['Nelder-Mead','Powell', 'CG','BFGS','L-BFGS-B', 'COBYLA', 'SLSQP','trust-constr', 'dogleg', 'trust-ncg', 'trust-exact', 'trust-krylov','Newton-CG']\n",
    "\n",
    "# Calculating the optimization \n",
    "for i in range(13):\n",
    "    res = minimize(f_x, (5,-1),  constraints=con1)\n",
    "    print(method_list[i], \"| Value of function\",res.fun)\n",
    "    print(\"Value of variable\", res.x, '\\n')"
   ]
  },
  {
   "cell_type": "markdown",
   "id": "7ec2b5a8",
   "metadata": {},
   "source": [
    "\n",
    "### Without bounds and unconstraints\n",
    "Here the constraint function is converted into unconstraint problem and is solved without bounds."
   ]
  },
  {
   "cell_type": "code",
   "execution_count": 5,
   "id": "2621ec30",
   "metadata": {},
   "outputs": [
    {
     "name": "stdout",
     "output_type": "stream",
     "text": [
      "Nelder-Mead | Value of function -7682479.839384352\n",
      "Value of variable [548.42373531 881.10811847   5.15070986] \n",
      "\n",
      "Powell | Value of function -7682479.839384352\n",
      "Value of variable [548.42373531 881.10811847   5.15070986] \n",
      "\n",
      "CG | Value of function -7682479.839384352\n",
      "Value of variable [548.42373531 881.10811847   5.15070986] \n",
      "\n",
      "BFGS | Value of function -7682479.839384352\n",
      "Value of variable [548.42373531 881.10811847   5.15070986] \n",
      "\n",
      "L-BFGS-B | Value of function -7682479.839384352\n",
      "Value of variable [548.42373531 881.10811847   5.15070986] \n",
      "\n",
      "COBYLA | Value of function -7682479.839384352\n",
      "Value of variable [548.42373531 881.10811847   5.15070986] \n",
      "\n",
      "SLSQP | Value of function -7682479.839384352\n",
      "Value of variable [548.42373531 881.10811847   5.15070986] \n",
      "\n",
      "trust-constr | Value of function -7682479.839384352\n",
      "Value of variable [548.42373531 881.10811847   5.15070986] \n",
      "\n",
      "dogleg | Value of function -7682479.839384352\n",
      "Value of variable [548.42373531 881.10811847   5.15070986] \n",
      "\n",
      "trust-ncg | Value of function -7682479.839384352\n",
      "Value of variable [548.42373531 881.10811847   5.15070986] \n",
      "\n",
      "trust-exact | Value of function -7682479.839384352\n",
      "Value of variable [548.42373531 881.10811847   5.15070986] \n",
      "\n",
      "trust-krylov | Value of function -7682479.839384352\n",
      "Value of variable [548.42373531 881.10811847   5.15070986] \n",
      "\n",
      "Newton-CG | Value of function -7682479.839384352\n",
      "Value of variable [548.42373531 881.10811847   5.15070986] \n",
      "\n"
     ]
    }
   ],
   "source": [
    "# Defining the Lagrange multiplier function, here x[2] is the lagrangian \n",
    "def flagrange_x(x):\n",
    "    return -3*x[0]**2 - 6*x[0]*x[1] - 5*x[1]**2 + 7*x[0] + 5*x[1]  -  x[2] * (x[0] + x[1] - 5)\n",
    "\n",
    "# Defining the method lits\n",
    "method_list = ['Nelder-Mead','Powell', 'CG','BFGS','L-BFGS-B', 'COBYLA', 'SLSQP','trust-constr', 'dogleg', 'trust-ncg', 'trust-exact', 'trust-krylov','Newton-CG']\n",
    "\n",
    "# Calculating the optimization \n",
    "for i in range(13):\n",
    "    res = minimize(flagrange_x,(-1,5,20))\n",
    "    print(method_list[i], \"| Value of function\",res.fun)\n",
    "    print(\"Value of variable\", res.x, '\\n')"
   ]
  },
  {
   "cell_type": "code",
   "execution_count": null,
   "id": "50ebc588",
   "metadata": {},
   "outputs": [],
   "source": []
  }
 ],
 "metadata": {
  "kernelspec": {
   "display_name": "Python 3 (ipykernel)",
   "language": "python",
   "name": "python3"
  },
  "language_info": {
   "codemirror_mode": {
    "name": "ipython",
    "version": 3
   },
   "file_extension": ".py",
   "mimetype": "text/x-python",
   "name": "python",
   "nbconvert_exporter": "python",
   "pygments_lexer": "ipython3",
   "version": "3.8.10"
  }
 },
 "nbformat": 4,
 "nbformat_minor": 5
}
