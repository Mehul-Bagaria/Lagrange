{
 "cells": [
  {
   "cell_type": "code",
   "execution_count": 21,
   "metadata": {},
   "outputs": [
    {
     "name": "stdout",
     "output_type": "stream",
     "text": [
      "-1.6666666666666665 0.3333333333333333 2.3333333333333335\n",
      "The optimal solution value of the function is:  8.333333333333334\n"
     ]
    }
   ],
   "source": [
    "from scipy.optimize import fsolve\n",
    "from math import exp\n",
    "\n",
    "def equations(vars):\n",
    "    x, y, z, g, h = vars\n",
    "    eq1 = 2*x-h-g      #Partial differential equation wrt x\n",
    "    eq2 = 2*y-h-2*g    #Partial differential equation wrt y\n",
    "    eq3 = 2*z-h-3*g    #Partial differential equation wrt z\n",
    "    eq4 = x+y+z-1      #First constraint equation\n",
    "    eq5 = x+2*y+3*z-6  #Second constraint equation\n",
    "    return [eq1, eq2, eq3, eq4, eq5]\n",
    "\n",
    "x, y, z, g, h =  fsolve(equations, (1,1,1,1,1)) #Taking intial guess\n",
    "\n",
    "print(x, y,z)\n",
    "def function(x,y,z):\n",
    "    eq = x**2 + y**2 + z**2 #Optimization fucntion \n",
    "    return (eq)\n",
    "\n",
    "print('The optimal solution value of the function is: ', function(x,y,z))\n"
   ]
  },
  {
   "cell_type": "code",
   "execution_count": null,
   "metadata": {},
   "outputs": [],
   "source": []
  },
  {
   "cell_type": "code",
   "execution_count": null,
   "metadata": {},
   "outputs": [],
   "source": []
  },
  {
   "cell_type": "code",
   "execution_count": null,
   "metadata": {},
   "outputs": [],
   "source": []
  }
 ],
 "metadata": {
  "kernelspec": {
   "display_name": "Python 3",
   "language": "python",
   "name": "python3"
  },
  "language_info": {
   "codemirror_mode": {
    "name": "ipython",
    "version": 3
   },
   "file_extension": ".py",
   "mimetype": "text/x-python",
   "name": "python",
   "nbconvert_exporter": "python",
   "pygments_lexer": "ipython3",
   "version": "3.6.7"
  }
 },
 "nbformat": 4,
 "nbformat_minor": 4
}
